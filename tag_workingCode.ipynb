{
  "nbformat": 4,
  "nbformat_minor": 0,
  "metadata": {
    "colab": {
      "name": "Btech_workingCode.ipynb",
      "version": "0.3.2",
      "provenance": []
    },
    "kernelspec": {
      "name": "python3",
      "display_name": "Python 3"
    },
    "accelerator": "GPU"
  },
  "cells": [
    {
      "cell_type": "code",
      "metadata": {
        "id": "bnrwOFcO9wn1",
        "colab_type": "code",
        "outputId": "15c60c33-818b-4ddf-c953-7a6e2056c066",
        "colab": {
          "base_uri": "https://localhost:8080/",
          "height": 34
        }
      },
      "source": [
        "from google.colab import drive\n",
        "drive.mount('/content/drive')\n"
      ],
      "execution_count": 0,
      "outputs": [
        {
          "output_type": "stream",
          "text": [
            "Drive already mounted at /content/drive; to attempt to forcibly remount, call drive.mount(\"/content/drive\", force_remount=True).\n"
          ],
          "name": "stdout"
        }
      ]
    },
    {
      "cell_type": "code",
      "metadata": {
        "id": "8jXejiamNwF_",
        "colab_type": "code",
        "outputId": "48463a2e-bf75-4c4f-8365-4cd0072ce068",
        "colab": {
          "base_uri": "https://localhost:8080/",
          "height": 1023
        }
      },
      "source": [
        "\n",
        "from keras.applications.inception_v3 import InceptionV3\n",
        "from keras.preprocessing import image\n",
        "from keras.models import Model\n",
        "from keras.layers import Dense, GlobalAveragePooling2D, Dropout\n",
        "from keras import backend as K\n",
        "from keras.layers import Conv2D , BatchNormalization\n",
        "from keras.applications.inception_v3 import preprocess_input\n",
        "from keras.preprocessing.image import ImageDataGenerator\n",
        "from keras.callbacks import ReduceLROnPlateau , ModelCheckpoint , LearningRateScheduler\n",
        "\n",
        "base_model = InceptionV3(weights='imagenet', include_top=False , input_shape=(299, 299, 3))\n",
        "\n",
        "x = base_model.output\n",
        "x = Dropout(0.5)(x)\n",
        "x = GlobalAveragePooling2D()(x)\n",
        "x = Dense(128, activation='relu')(x)\n",
        "x = BatchNormalization()(x)\n",
        "predictions = Dense(17, activation='softmax')(x)\n",
        "\n",
        "\n",
        "model = Model(inputs=base_model.input, outputs=predictions)\n",
        "\n",
        "\n",
        "lr_reduce = ReduceLROnPlateau(monitor='val_acc', factor=0.1, epsilon=0.0001, patience=1, verbose=1)\n",
        "\n",
        "filepath=\"/content/drive/My Drive/A/transferlearning_weights.hdf5\"\n",
        "checkpoint = ModelCheckpoint(filepath, monitor='val_acc', verbose=1, save_best_only=True, mode='max')\n",
        "\n",
        "\n",
        "model.compile(loss='categorical_crossentropy', optimizer='adam',metrics=['accuracy'])\n",
        "\n",
        "\n",
        "data_generator = ImageDataGenerator(preprocessing_function=preprocess_input)\n",
        "\n",
        "\n",
        "train_generator = data_generator.flow_from_directory(\n",
        "        '/content/drive/My Drive/A/train',\n",
        "        target_size=(299, 299),\n",
        "        batch_size=24,\n",
        "        class_mode='categorical')\n",
        "\n",
        "validation_generator = data_generator.flow_from_directory(\n",
        "        '/content/drive/My Drive/A/val',\n",
        "        target_size=(299, 299),\n",
        "        batch_size=16,\n",
        "        class_mode='categorical')\n",
        "\n",
        "history1 = model.fit_generator(\n",
        "           train_generator,\n",
        "           steps_per_epoch=50,\n",
        "           validation_data = validation_generator,\n",
        "           epochs=10,\n",
        "           validation_steps=50,\n",
        "           callbacks=[lr_reduce,checkpoint])\n",
        " \n",
        " "
      ],
      "execution_count": 0,
      "outputs": [
        {
          "output_type": "stream",
          "text": [
            "/usr/local/lib/python3.6/dist-packages/keras/callbacks.py:1065: UserWarning: `epsilon` argument is deprecated and will be removed, use `min_delta` instead.\n",
            "  warnings.warn('`epsilon` argument is deprecated and '\n"
          ],
          "name": "stderr"
        },
        {
          "output_type": "stream",
          "text": [
            "Found 656 images belonging to 17 classes.\n",
            "Found 51 images belonging to 17 classes.\n",
            "Epoch 1/10\n",
            "50/50 [==============================] - 113s 2s/step - loss: 0.8861 - acc: 0.7659 - val_loss: 1.5640 - val_acc: 0.5280\n",
            "\n",
            "Epoch 00001: val_acc improved from -inf to 0.52795, saving model to /content/drive/My Drive/A/transferlearning_weights.hdf5\n",
            "Epoch 2/10\n",
            "50/50 [==============================] - 25s 506ms/step - loss: 0.2450 - acc: 0.9417 - val_loss: 0.4422 - val_acc: 0.8257\n",
            "\n",
            "Epoch 00002: val_acc improved from 0.52795 to 0.82567, saving model to /content/drive/My Drive/A/transferlearning_weights.hdf5\n",
            "Epoch 3/10\n",
            "50/50 [==============================] - 26s 526ms/step - loss: 0.2080 - acc: 0.9467 - val_loss: 0.4951 - val_acc: 0.8245\n",
            "\n",
            "Epoch 00003: ReduceLROnPlateau reducing learning rate to 0.00010000000474974513.\n",
            "\n",
            "Epoch 00003: val_acc did not improve from 0.82567\n",
            "Epoch 4/10\n",
            "50/50 [==============================] - 25s 508ms/step - loss: 0.0600 - acc: 0.9892 - val_loss: 0.0388 - val_acc: 1.0000\n",
            "\n",
            "Epoch 00004: val_acc improved from 0.82567 to 1.00000, saving model to /content/drive/My Drive/A/transferlearning_weights.hdf5\n",
            "Epoch 5/10\n",
            "50/50 [==============================] - 26s 520ms/step - loss: 0.0223 - acc: 0.9983 - val_loss: 0.0196 - val_acc: 1.0000\n",
            "\n",
            "Epoch 00005: ReduceLROnPlateau reducing learning rate to 1.0000000474974514e-05.\n",
            "\n",
            "Epoch 00005: val_acc did not improve from 1.00000\n",
            "Epoch 6/10\n",
            "50/50 [==============================] - 25s 505ms/step - loss: 0.0182 - acc: 1.0000 - val_loss: 0.0239 - val_acc: 1.0000\n",
            "\n",
            "Epoch 00006: ReduceLROnPlateau reducing learning rate to 1.0000000656873453e-06.\n",
            "\n",
            "Epoch 00006: val_acc did not improve from 1.00000\n",
            "Epoch 7/10\n",
            "50/50 [==============================] - 25s 505ms/step - loss: 0.0266 - acc: 0.9950 - val_loss: 0.0262 - val_acc: 1.0000\n",
            "\n",
            "Epoch 00007: ReduceLROnPlateau reducing learning rate to 1.0000001111620805e-07.\n",
            "\n",
            "Epoch 00007: val_acc did not improve from 1.00000\n",
            "Epoch 8/10\n",
            "50/50 [==============================] - 25s 507ms/step - loss: 0.0268 - acc: 0.9951 - val_loss: 0.0255 - val_acc: 1.0000\n",
            "\n",
            "Epoch 00008: ReduceLROnPlateau reducing learning rate to 1.000000082740371e-08.\n",
            "\n",
            "Epoch 00008: val_acc did not improve from 1.00000\n",
            "Epoch 9/10\n",
            "50/50 [==============================] - 25s 506ms/step - loss: 0.0328 - acc: 0.9951 - val_loss: 0.0279 - val_acc: 1.0000\n",
            "\n",
            "Epoch 00009: ReduceLROnPlateau reducing learning rate to 1.000000082740371e-09.\n",
            "\n",
            "Epoch 00009: val_acc did not improve from 1.00000\n",
            "Epoch 10/10\n",
            "50/50 [==============================] - 26s 512ms/step - loss: 0.0189 - acc: 0.9983 - val_loss: 0.0291 - val_acc: 1.0000\n",
            "\n",
            "Epoch 00010: ReduceLROnPlateau reducing learning rate to 1.000000082740371e-10.\n",
            "\n",
            "Epoch 00010: val_acc did not improve from 1.00000\n"
          ],
          "name": "stdout"
        }
      ]
    },
    {
      "cell_type": "code",
      "metadata": {
        "id": "Msr7Ll3aRgWh",
        "colab_type": "code",
        "colab": {}
      },
      "source": [
        "model.load_weights(\"/content/drive/My Drive/A/transferlearning_weights.hdf5\")"
      ],
      "execution_count": 0,
      "outputs": []
    },
    {
      "cell_type": "code",
      "metadata": {
        "id": "RqWy5lFJG-14",
        "colab_type": "code",
        "outputId": "e1b8cab9-f8cb-4e00-8e92-74e1da6b75c7",
        "colab": {
          "base_uri": "https://localhost:8080/",
          "height": 590
        }
      },
      "source": [
        "import matplotlib.pyplot as plt\n",
        "\n",
        "plt.plot(history1.history['acc'])\n",
        "plt.plot(history1.history['val_acc'])\n",
        "plt.title('model accuracy')\n",
        "plt.ylabel('accuracy')\n",
        "plt.xlabel('epoch')\n",
        "plt.legend(['train', 'test'], loc='upper left')\n",
        "plt.show()\n",
        "plt.savefig ( \"A.png\" )\n",
        "\n",
        "# summarize history for loss\n",
        "plt.plot(history1.history['loss'])\n",
        "plt.plot(history1.history['val_loss'])\n",
        "plt.title('model loss')\n",
        "plt.ylabel('loss')\n",
        "plt.xlabel('epoch')\n",
        "plt.legend(['train', 'test'], loc='upper left')\n",
        "plt.show()\n",
        "plt.savefig ( \"L.png\" )\n",
        "\n",
        "\n"
      ],
      "execution_count": 0,
      "outputs": [
        {
          "output_type": "display_data",
          "data": {
            "image/png": "[encoded data removed]",
            "text/plain": [
              "<Figure size 432x288 with 1 Axes>"
            ]
          },
          "metadata": {
            "tags": []
          }
        },
        {
          "output_type": "display_data",
          "data": {
            "image/png": "[encoded data removed]",
            "text/plain": [
              "<Figure size 432x288 with 1 Axes>"
            ]
          },
          "metadata": {
            "tags": []
          }
        },
        {
          "output_type": "display_data",
          "data": {
            "text/plain": [
              "<Figure size 432x288 with 0 Axes>"
            ]
          },
          "metadata": {
            "tags": []
          }
        }
      ]
    },
    {
      "cell_type": "code",
      "metadata": {
        "id": "BuS16QHgi9Ug",
        "colab_type": "code",
        "colab": {}
      },
      "source": [
        ""
      ],
      "execution_count": 0,
      "outputs": []
    },
    {
      "cell_type": "code",
      "metadata": {
        "id": "wVSkX52kSQjK",
        "colab_type": "code",
        "colab": {}
      },
      "source": [
        "!pip install keras "
      ],
      "execution_count": 0,
      "outputs": []
    },
    {
      "cell_type": "code",
      "metadata": {
        "id": "PdKEcadf9Wym",
        "colab_type": "code",
        "colab": {}
      },
      "source": [
        "model.save('/content/drive/My Drive/A/init_weights.h5')"
      ],
      "execution_count": 0,
      "outputs": []
    },
    {
      "cell_type": "code",
      "metadata": {
        "id": "_j8B5Ffx4wNd",
        "colab_type": "code",
        "colab": {}
      },
      "source": [
        "from keras.models import load_model\n",
        "model = load_model('/content/drive/My Drive/A/init_weights.h5')\n"
      ],
      "execution_count": 0,
      "outputs": []
    },
    {
      "cell_type": "code",
      "metadata": {
        "id": "ubemmHqW8wXP",
        "colab_type": "code",
        "outputId": "03e45a21-71fd-4daa-d4cf-36af417e0329",
        "colab": {
          "base_uri": "https://localhost:8080/",
          "height": 762
        }
      },
      "source": [
        "import numpy as np\n",
        "from sklearn.metrics import classification_report, confusion_matrix\n",
        "\n",
        "Y_pred = model.predict_generator(validation_generator, np.math.ceil(validation_generator.samples/validation_generator.batch_size) )\n",
        "y_pred = np.argmax(Y_pred, axis=1)\n",
        "\n",
        "CM = confusion_matrix(validation_generator.classes, y_pred)\n",
        "from mlxtend.plotting import plot_confusion_matrix\n",
        "fig, ax = plot_confusion_matrix(conf_mat=CM ,  figsize=(5, 5))\n",
        "plt.show()\n",
        "\n",
        "print('Classification Report')\n",
        "print(classification_report(validation_generator.classes, y_pred))\n"
      ],
      "execution_count": 0,
      "outputs": [
        {
          "output_type": "display_data",
          "data": {
            "image/png": "[encoded data removed]",
            "text/plain": [
              "<Figure size 360x360 with 1 Axes>"
            ]
          },
          "metadata": {
            "tags": []
          }
        },
        {
          "output_type": "stream",
          "text": [
            "Classification Report\n",
            "              precision    recall  f1-score   support\n",
            "\n",
            "           0       0.00      0.00      0.00         3\n",
            "           1       0.50      0.33      0.40         3\n",
            "           2       0.00      0.00      0.00         3\n",
            "           3       0.00      0.00      0.00         3\n",
            "           4       0.00      0.00      0.00         3\n",
            "           5       0.00      0.00      0.00         3\n",
            "           6       0.00      0.00      0.00         3\n",
            "           7       0.33      0.33      0.33         3\n",
            "           8       0.20      0.33      0.25         3\n",
            "           9       0.33      0.33      0.33         3\n",
            "          10       0.00      0.00      0.00         3\n",
            "          11       0.00      0.00      0.00         3\n",
            "          12       0.00      0.00      0.00         3\n",
            "          13       0.25      0.33      0.29         3\n",
            "          14       0.00      0.00      0.00         3\n",
            "          15       0.00      0.00      0.00         3\n",
            "          16       0.50      0.67      0.57         3\n",
            "\n",
            "   micro avg       0.14      0.14      0.14        51\n",
            "   macro avg       0.12      0.14      0.13        51\n",
            "weighted avg       0.12      0.14      0.13        51\n",
            "\n"
          ],
          "name": "stdout"
        }
      ]
    },
    {
      "cell_type": "code",
      "metadata": {
        "id": "hbiP25I8q8eJ",
        "colab_type": "code",
        "colab": {}
      },
      "source": [
        " y_pred "
      ],
      "execution_count": 0,
      "outputs": []
    },
    {
      "cell_type": "code",
      "metadata": {
        "id": "xGWBWqyCq3Zo",
        "colab_type": "code",
        "colab": {}
      },
      "source": [
        "validation_generator.classes "
      ],
      "execution_count": 0,
      "outputs": []
    }
  ]
}